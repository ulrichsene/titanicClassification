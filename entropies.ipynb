{
 "cells": [
  {
   "cell_type": "code",
   "execution_count": 2,
   "metadata": {},
   "outputs": [],
   "source": [
    "import importlib\n",
    "\n",
    "import numpy as np\n",
    "\n",
    "import MyPyTable\n",
    "importlib.reload(MyPyTable)\n",
    "from MyPyTable import MyPyTable\n",
    "\n",
    "import utils\n",
    "importlib.reload(utils)\n",
    "\n",
    "from sklearn.neighbors import KNeighborsClassifier\n",
    "from sklearn.metrics import accuracy_score"
   ]
  },
  {
   "cell_type": "markdown",
   "metadata": {},
   "source": [
    "# Load Data from CSV"
   ]
  },
  {
   "cell_type": "code",
   "execution_count": 3,
   "metadata": {},
   "outputs": [
    {
     "data": {
      "text/plain": [
       "<MyPyTable.MyPyTable at 0x17537e450>"
      ]
     },
     "execution_count": 3,
     "metadata": {},
     "output_type": "execute_result"
    }
   ],
   "source": [
    "titanic_data = MyPyTable()\n",
    "titanic_data.load_from_file(\"input_data/updated_titanic.csv\")\n",
    "# titanic_data.pretty_print()"
   ]
  },
  {
   "cell_type": "markdown",
   "metadata": {},
   "source": [
    "# Separate Embarked Classes"
   ]
  },
  {
   "cell_type": "code",
   "execution_count": 4,
   "metadata": {},
   "outputs": [
    {
     "name": "stdout",
     "output_type": "stream",
     "text": [
      "[0.0, 1.0, 0.0, 1.0, 1.0, 0.0, 38.0, 1.0, 0.0, 71.2833]\n",
      "77\n",
      "890\n",
      "proportion: 0.08651685393258426\n",
      "proportion: 0.18876404494382024\n",
      "proportion: 0.7224719101123596\n",
      "168\n",
      "643\n"
     ]
    }
   ],
   "source": [
    "Q_titanic_data = []\n",
    "C_titanic_data = []\n",
    "S_titanic_data = []\n",
    "\n",
    "# look at how data is imported\n",
    "print(titanic_data.data[0])\n",
    "\n",
    "for row in titanic_data.data:\n",
    "    if row[0] == 1:\n",
    "        Q_titanic_data.append(row)\n",
    "    if row[1] == 1:\n",
    "        C_titanic_data.append(row)\n",
    "    if row[2] == 1:\n",
    "        S_titanic_data.append(row)\n",
    "\n",
    "# print(\"Q dataset: \", Q_titanic_data)\n",
    "print(len(Q_titanic_data))\n",
    "print(len(titanic_data.data))\n",
    "print(f\"proportion: {len(Q_titanic_data)/len(titanic_data.data)}\")\n",
    "print(f\"proportion: {len(C_titanic_data)/len(titanic_data.data)}\")\n",
    "print(f\"proportion: {len(S_titanic_data)/len(titanic_data.data)}\")\n",
    "print(len(C_titanic_data))\n",
    "print(len(S_titanic_data))\n",
    "# print(\"C dataset: \", C_titanic_data)\n",
    "# print(\"S dataset: \", S_titanic_data)"
   ]
  },
  {
   "cell_type": "markdown",
   "metadata": {},
   "source": [
    "# Entropy calculation  \n",
    "### Shannon Entropy Calculation \n",
    " \n",
    "$H(X) = - \\sum p(x) \\log(p(x))$"
   ]
  },
  {
   "cell_type": "code",
   "execution_count": 5,
   "metadata": {},
   "outputs": [
    {
     "name": "stdout",
     "output_type": "stream",
     "text": [
      "Q entropy:  0.4247354052464511\n",
      "C entropy:  0.6988787658095251\n",
      "S entropy:  0.8520607567826528\n"
     ]
    }
   ],
   "source": [
    "Q_values = [row[0] for row in titanic_data.data]\n",
    "C_values = [row[1] for row in titanic_data.data]\n",
    "S_values = [row[2] for row in titanic_data.data]\n",
    "\n",
    "Q_entropy = utils.calculate_shannon_entropy(Q_values)\n",
    "C_entropy = utils.calculate_shannon_entropy(C_values)\n",
    "S_entropy = utils.calculate_shannon_entropy(S_values)\n",
    "\n",
    "print(\"Q entropy: \", Q_entropy)\n",
    "print(\"C entropy: \", C_entropy)\n",
    "print(\"S entropy: \", S_entropy)"
   ]
  },
  {
   "cell_type": "markdown",
   "metadata": {},
   "source": [
    "### Renyi Entropy Calculation\n",
    "$H_\\alpha(X) = \\frac{1}{1 - \\alpha} \\log_2 \\left( \\sum_{i=1}^{n} p(x_i)^\\alpha \\right)$"
   ]
  },
  {
   "cell_type": "code",
   "execution_count": 6,
   "metadata": {},
   "outputs": [
    {
     "name": "stdout",
     "output_type": "stream",
     "text": [
      "Q Renyi entropy:  0.2482164547619598\n",
      "C Renyi entropy:  0.5275420924996362\n",
      "S Renyi entropy:  0.7394021947104253\n"
     ]
    }
   ],
   "source": [
    "Q_renyi_entropy = utils.calculate_renyi_entropy(Q_values)\n",
    "C_renyi_entropy = utils.calculate_renyi_entropy(C_values)\n",
    "S_renyi_entropy = utils.calculate_renyi_entropy(S_values)\n",
    "\n",
    "print(\"Q Renyi entropy: \", Q_renyi_entropy)\n",
    "print(\"C Renyi entropy: \", C_renyi_entropy)\n",
    "print(\"S Renyi entropy: \", S_renyi_entropy)"
   ]
  },
  {
   "cell_type": "markdown",
   "metadata": {},
   "source": [
    "# Dataset Entropies for Features for Both Entropies  \n",
    "Shannon measures prediactablitly -> lower entropy means higher predictability    \n",
    "Renyi has a sharper punishment of lower predictablity events \n",
    "\n",
    "Ideal feature? Intra vs inter..."
   ]
  },
  {
   "cell_type": "code",
   "execution_count": 7,
   "metadata": {},
   "outputs": [
    {
     "name": "stdout",
     "output_type": "stream",
     "text": [
      "Survived shannon:  0.9610018162432594\n",
      "Pclass shannon:  1.4399719859739184\n",
      "Sex shannon:  0.9365517326147232\n",
      "Age shannon:  5.291844098413824\n",
      "Sibsp shannon:  1.3377097254948143\n",
      "Parch shannon:  1.129162033353948\n"
     ]
    }
   ],
   "source": [
    "survived = [row[3] for row in titanic_data.data]\n",
    "p_class = [row[4] for row in titanic_data.data]\n",
    "sex = [row[5] for row in titanic_data.data]\n",
    "age = [row[6] for row in titanic_data.data]\n",
    "sib_sp = [row[7] for row in titanic_data.data]\n",
    "par_ch = [row[8] for row in titanic_data.data]\n",
    "\n",
    "# Shannon entropy\n",
    "survived_shannon = utils.calculate_shannon_entropy(survived)\n",
    "p_class_shannon = utils.calculate_shannon_entropy(p_class)\n",
    "sex_shannon = utils.calculate_shannon_entropy(sex)\n",
    "age_shannon = utils.calculate_shannon_entropy(age)\n",
    "sib_sp_shannon = utils.calculate_shannon_entropy(sib_sp)\n",
    "par_ch_shannon = utils.calculate_shannon_entropy(par_ch)\n",
    "\n",
    "print(\"Survived shannon: \", survived_shannon)\n",
    "print(\"Pclass shannon: \", p_class_shannon)\n",
    "print(\"Sex shannon: \", sex_shannon)\n",
    "print(\"Age shannon: \", age_shannon)\n",
    "print(\"Sibsp shannon: \", sib_sp_shannon)\n",
    "print(\"Parch shannon: \", par_ch_shannon)\n"
   ]
  },
  {
   "cell_type": "code",
   "execution_count": 8,
   "metadata": {},
   "outputs": [
    {
     "name": "stdout",
     "output_type": "stream",
     "text": [
      "Survived renyi:  0.9247082917316864\n",
      "Pclass renyi:  1.3048541529744426\n",
      "Sex renyi:  0.880098358054565\n",
      "Age renyi:  3.998783847810187\n",
      "Sibsp renyi:  0.9347769469386966\n",
      "Parch renyi:  0.7265004969325213\n"
     ]
    }
   ],
   "source": [
    "# Renyi Entropy\n",
    "survived_renyi = utils.calculate_renyi_entropy(survived)\n",
    "p_class_renyi = utils.calculate_renyi_entropy(p_class)\n",
    "sex_renyi = utils.calculate_renyi_entropy(sex)\n",
    "age_renyi = utils.calculate_renyi_entropy(age)\n",
    "sib_sp_renyi = utils.calculate_renyi_entropy(sib_sp)\n",
    "par_ch_renyi = utils.calculate_renyi_entropy(par_ch)\n",
    "\n",
    "print(\"Survived renyi: \", survived_renyi)\n",
    "print(\"Pclass renyi: \", p_class_renyi)\n",
    "print(\"Sex renyi: \", sex_renyi)\n",
    "print(\"Age renyi: \", age_renyi)\n",
    "print(\"Sibsp renyi: \", sib_sp_renyi)\n",
    "print(\"Parch renyi: \", par_ch_renyi)"
   ]
  },
  {
   "cell_type": "markdown",
   "metadata": {},
   "source": [
    "# Embarked Subset Data  \n",
    "Calculate the entropy for each feature that has value (not classifier or fare)."
   ]
  },
  {
   "cell_type": "code",
   "execution_count": 9,
   "metadata": {},
   "outputs": [
    {
     "name": "stdout",
     "output_type": "stream",
     "text": [
      "Q Embarked\n",
      "Survived shannon:  0.9645476589143231\n",
      "Pclass shannon:  0.40978020814931754\n",
      "Sex shannon:  0.9969562518473083\n",
      "Age shannon:  2.498048755126898\n",
      "Sibsp shannon:  1.0994543949868185\n",
      "Parch shannon:  0.5914883261232053\n",
      "\n",
      "Survived renyi:  0.9313381800487386\n",
      "Pclass renyi:  0.19010973772190023\n",
      "Sex renyi:  0.9939295751517668\n",
      "Age renyi:  1.2258030494991\n",
      "Sibsp renyi:  0.7090120514195228\n",
      "Parch renyi:  0.30505498367360884\n"
     ]
    }
   ],
   "source": [
    "# Q Embarked Dataset\n",
    "Q_survived = [row[3] for row in Q_titanic_data]\n",
    "Q_p_class = [row[4] for row in Q_titanic_data]\n",
    "Q_sex = [row[5] for row in Q_titanic_data]\n",
    "Q_age = [row[6] for row in Q_titanic_data]\n",
    "Q_sib_sp = [row[7] for row in Q_titanic_data]\n",
    "Q_par_ch = [row[8] for row in Q_titanic_data]\n",
    "\n",
    "# Shannon entropy\n",
    "Q_survived_shannon = utils.calculate_shannon_entropy(Q_survived)\n",
    "Q_p_class_shannon = utils.calculate_shannon_entropy(Q_p_class)\n",
    "Q_sex_shannon = utils.calculate_shannon_entropy(Q_sex)\n",
    "Q_age_shannon = utils.calculate_shannon_entropy(Q_age)\n",
    "Q_sib_sp_shannon = utils.calculate_shannon_entropy(Q_sib_sp)\n",
    "Q_par_ch_shannon = utils.calculate_shannon_entropy(Q_par_ch)\n",
    "\n",
    "print(\"Q Embarked\")\n",
    "print(\"Survived shannon: \", Q_survived_shannon)\n",
    "print(\"Pclass shannon: \", Q_p_class_shannon)\n",
    "print(\"Sex shannon: \", Q_sex_shannon)\n",
    "print(\"Age shannon: \", Q_age_shannon)\n",
    "print(\"Sibsp shannon: \", Q_sib_sp_shannon)\n",
    "print(\"Parch shannon: \", Q_par_ch_shannon)\n",
    "print()\n",
    "\n",
    "# Renyi Entropy\n",
    "Q_survived_renyi = utils.calculate_renyi_entropy(Q_survived)\n",
    "Q_p_class_renyi = utils.calculate_renyi_entropy(Q_p_class)\n",
    "Q_sex_renyi = utils.calculate_renyi_entropy(Q_sex)\n",
    "Q_age_renyi = utils.calculate_renyi_entropy(Q_age)\n",
    "Q_sib_sp_renyi = utils.calculate_renyi_entropy(Q_sib_sp)\n",
    "Q_par_ch_renyi = utils.calculate_renyi_entropy(Q_par_ch)\n",
    "\n",
    "print(\"Survived renyi: \", Q_survived_renyi)\n",
    "print(\"Pclass renyi: \", Q_p_class_renyi)\n",
    "print(\"Sex renyi: \", Q_sex_renyi)\n",
    "print(\"Age renyi: \", Q_age_renyi)\n",
    "print(\"Sibsp renyi: \", Q_sib_sp_renyi)\n",
    "print(\"Parch renyi: \", Q_par_ch_renyi)"
   ]
  },
  {
   "cell_type": "code",
   "execution_count": 10,
   "metadata": {},
   "outputs": [
    {
     "name": "stdout",
     "output_type": "stream",
     "text": [
      "C Embarked\n",
      "Survived shannon:  0.9917033083725818\n",
      "Pclass shannon:  1.3612751028346035\n",
      "Sex shannon:  0.9875943537925622\n",
      "Age shannon:  4.995226904564466\n",
      "Sibsp shannon:  1.1017123602974421\n",
      "Parch shannon:  1.115894976744305\n",
      "\n",
      "Survived renyi:  0.9835327884112297\n",
      "Pclass renyi:  1.2496025310282517\n",
      "Sex renyi:  0.9754696401856398\n",
      "Age renyi:  3.753967709310579\n",
      "Sibsp renyi:  0.9385568593849218\n",
      "Parch renyi:  0.7986150724934451\n"
     ]
    }
   ],
   "source": [
    "# C Embarked Dataset\n",
    "C_survived = [row[3] for row in C_titanic_data]\n",
    "C_p_class = [row[4] for row in C_titanic_data]\n",
    "C_sex = [row[5] for row in C_titanic_data]\n",
    "C_age = [row[6] for row in C_titanic_data]\n",
    "C_sib_sp = [row[7] for row in C_titanic_data]\n",
    "C_par_ch = [row[8] for row in C_titanic_data]\n",
    "\n",
    "# Shannon entropy\n",
    "C_survived_shannon = utils.calculate_shannon_entropy(C_survived)\n",
    "C_p_class_shannon = utils.calculate_shannon_entropy(C_p_class)\n",
    "C_sex_shannon = utils.calculate_shannon_entropy(C_sex)\n",
    "C_age_shannon = utils.calculate_shannon_entropy(C_age)\n",
    "C_sib_sp_shannon = utils.calculate_shannon_entropy(C_sib_sp)\n",
    "C_par_ch_shannon = utils.calculate_shannon_entropy(C_par_ch)\n",
    "\n",
    "print(\"C Embarked\")\n",
    "print(\"Survived shannon: \", C_survived_shannon)\n",
    "print(\"Pclass shannon: \", C_p_class_shannon)\n",
    "print(\"Sex shannon: \", C_sex_shannon)\n",
    "print(\"Age shannon: \", C_age_shannon)\n",
    "print(\"Sibsp shannon: \", C_sib_sp_shannon)\n",
    "print(\"Parch shannon: \", C_par_ch_shannon)\n",
    "print()\n",
    "\n",
    "# Renyi Entropy\n",
    "C_survived_renyi = utils.calculate_renyi_entropy(C_survived)\n",
    "C_p_class_renyi = utils.calculate_renyi_entropy(C_p_class)\n",
    "C_sex_renyi = utils.calculate_renyi_entropy(C_sex)\n",
    "C_age_renyi = utils.calculate_renyi_entropy(C_age)\n",
    "C_sib_sp_renyi = utils.calculate_renyi_entropy(C_sib_sp)\n",
    "C_par_ch_renyi = utils.calculate_renyi_entropy(C_par_ch)\n",
    "\n",
    "print(\"Survived renyi: \", C_survived_renyi)\n",
    "print(\"Pclass renyi: \", C_p_class_renyi)\n",
    "print(\"Sex renyi: \", C_sex_renyi)\n",
    "print(\"Age renyi: \", C_age_renyi)\n",
    "print(\"Sibsp renyi: \", C_sib_sp_renyi)\n",
    "print(\"Parch renyi: \", C_par_ch_renyi)"
   ]
  },
  {
   "cell_type": "code",
   "execution_count": 11,
   "metadata": {},
   "outputs": [
    {
     "name": "stdout",
     "output_type": "stream",
     "text": [
      "S Embarked\n",
      "Survived shannon:  0.9223873446581821\n",
      "Pclass shannon:  1.4407722621059265\n",
      "Sex shannon:  0.8996524309991123\n",
      "Age shannon:  5.4009268279577896\n",
      "Sibsp shannon:  1.3891715853278206\n",
      "Parch shannon:  1.1744868834660331\n",
      "\n",
      "Survived renyi:  0.8551048786453199\n",
      "Pclass renyi:  1.3084747693066123\n",
      "Sex renyi:  0.8162216736172511\n",
      "Age renyi:  4.507047226726283\n",
      "Sibsp renyi:  0.9536963202848286\n",
      "Parch renyi:  0.7591322891663392\n"
     ]
    }
   ],
   "source": [
    "# S Embarked Dataset\n",
    "S_survived = [row[3] for row in S_titanic_data]\n",
    "S_p_class = [row[4] for row in S_titanic_data]\n",
    "S_sex = [row[5] for row in S_titanic_data]\n",
    "S_age = [row[6] for row in S_titanic_data]\n",
    "S_sib_sp = [row[7] for row in S_titanic_data]\n",
    "S_par_ch = [row[8] for row in S_titanic_data]\n",
    "\n",
    "# Shannon entropy\n",
    "S_survived_shannon = utils.calculate_shannon_entropy(S_survived)\n",
    "S_p_class_shannon = utils.calculate_shannon_entropy(S_p_class)\n",
    "S_sex_shannon = utils.calculate_shannon_entropy(S_sex)\n",
    "S_age_shannon = utils.calculate_shannon_entropy(S_age)\n",
    "S_sib_sp_shannon = utils.calculate_shannon_entropy(S_sib_sp)\n",
    "S_par_ch_shannon = utils.calculate_shannon_entropy(S_par_ch)\n",
    "\n",
    "print(\"S Embarked\")\n",
    "print(\"Survived shannon: \", S_survived_shannon)\n",
    "print(\"Pclass shannon: \", S_p_class_shannon)\n",
    "print(\"Sex shannon: \", S_sex_shannon)\n",
    "print(\"Age shannon: \", S_age_shannon)\n",
    "print(\"Sibsp shannon: \", S_sib_sp_shannon)\n",
    "print(\"Parch shannon: \", S_par_ch_shannon)\n",
    "print()\n",
    "\n",
    "# Renyi Entropy\n",
    "S_survived_renyi = utils.calculate_renyi_entropy(S_survived)\n",
    "S_p_class_renyi = utils.calculate_renyi_entropy(S_p_class)\n",
    "S_sex_renyi = utils.calculate_renyi_entropy(S_sex)\n",
    "S_age_renyi = utils.calculate_renyi_entropy(S_age)\n",
    "S_sib_sp_renyi = utils.calculate_renyi_entropy(S_sib_sp)\n",
    "S_par_ch_renyi = utils.calculate_renyi_entropy(S_par_ch)\n",
    "\n",
    "print(\"Survived renyi: \", S_survived_renyi)\n",
    "print(\"Pclass renyi: \", S_p_class_renyi)\n",
    "print(\"Sex renyi: \", S_sex_renyi)\n",
    "print(\"Age renyi: \", S_age_renyi)\n",
    "print(\"Sibsp renyi: \", S_sib_sp_renyi)\n",
    "print(\"Parch renyi: \", S_par_ch_renyi)\n",
    "\n",
    "# print(S_titanic_data)"
   ]
  },
  {
   "cell_type": "markdown",
   "metadata": {},
   "source": [
    "Entropy closer to one means that one outcome is no more likely to predict than another. "
   ]
  },
  {
   "cell_type": "markdown",
   "metadata": {},
   "source": [
    "# Finding the Feature of the Subsets that Are the most Expressive"
   ]
  },
  {
   "cell_type": "code",
   "execution_count": 12,
   "metadata": {},
   "outputs": [
    {
     "name": "stdout",
     "output_type": "stream",
     "text": [
      "SHANNON\n",
      "Q survived discrepancy -0.003545842671063726\n",
      "C survived discrepancy -0.030701492129322383\n",
      "S survived discrepancy 0.03861447158507736\n",
      "\n",
      "Q pclass discrepancy 1.0301917778246008\n",
      "C pclass discrepancy 0.07869688313931489\n",
      "S pclass discrepancy -0.0008002761320080598\n",
      "\n",
      "Q sex discrepancy -0.06040451923258505\n",
      "C sex discrepancy -0.051042621177838976\n",
      "S sex discrepancy 0.03689930161561095\n",
      "\n",
      "Q age discrepancy 2.793795343286926\n",
      "C age discrepancy 0.29661719384935825\n",
      "S age discrepancy -0.10908272954396558\n",
      "\n",
      "Q sibsp discrepancy 0.23825533050799574\n",
      "C sibsp discrepancy 0.23599736519737213\n",
      "S sibsp discrepancy -0.05146185983300633\n",
      "\n",
      "Q parch discrepancy 0.5376737072307427\n",
      "C parch discrepancy 0.013267056609643113\n",
      "S parch discrepancy -0.04532485011208509\n"
     ]
    }
   ],
   "source": [
    "print(\"SHANNON\")\n",
    "\n",
    "# SURVIVED\n",
    "survived_shannon_Q_diff = survived_shannon - Q_survived_shannon\n",
    "survived_shannon_C_diff = survived_shannon - C_survived_shannon\n",
    "survived_shannon_S_diff = survived_shannon - S_survived_shannon\n",
    "print(\"Q survived discrepancy\", survived_shannon_Q_diff)\n",
    "print(\"C survived discrepancy\", survived_shannon_C_diff)\n",
    "print(\"S survived discrepancy\", survived_shannon_S_diff)\n",
    "print()\n",
    "\n",
    "# PCLASS\n",
    "pclass_shannon_Q_diff = p_class_shannon - Q_p_class_shannon\n",
    "pclass_shannon_C_diff = p_class_shannon - C_p_class_shannon\n",
    "pclass_shannon_S_diff = p_class_shannon - S_p_class_shannon\n",
    "print(\"Q pclass discrepancy\", pclass_shannon_Q_diff)\n",
    "print(\"C pclass discrepancy\", pclass_shannon_C_diff)\n",
    "print(\"S pclass discrepancy\", pclass_shannon_S_diff)\n",
    "print()\n",
    "\n",
    "# SEX\n",
    "sex_shannon_Q_diff = sex_shannon - Q_sex_shannon\n",
    "sex_shannon_C_diff = sex_shannon - C_sex_shannon\n",
    "sex_shannon_S_diff = sex_shannon - S_sex_shannon\n",
    "print(\"Q sex discrepancy\", sex_shannon_Q_diff)\n",
    "print(\"C sex discrepancy\", sex_shannon_C_diff)\n",
    "print(\"S sex discrepancy\", sex_shannon_S_diff)\n",
    "print()\n",
    "\n",
    "# AGE\n",
    "age_shannon_Q_diff = age_shannon - Q_age_shannon\n",
    "age_shannon_C_diff = age_shannon - C_age_shannon\n",
    "age_shannon_S_diff = age_shannon - S_age_shannon\n",
    "print(\"Q age discrepancy\", age_shannon_Q_diff)\n",
    "print(\"C age discrepancy\", age_shannon_C_diff)\n",
    "print(\"S age discrepancy\", age_shannon_S_diff)\n",
    "print()\n",
    "\n",
    "# SIBSP\n",
    "sibsp_shannon_Q_diff = sib_sp_shannon - Q_sib_sp_shannon\n",
    "sibsp_shannon_C_diff = sib_sp_shannon - C_sib_sp_shannon\n",
    "sibsp_shannon_S_diff = sib_sp_shannon - S_sib_sp_shannon\n",
    "print(\"Q sibsp discrepancy\", sibsp_shannon_Q_diff)\n",
    "print(\"C sibsp discrepancy\", sibsp_shannon_C_diff)\n",
    "print(\"S sibsp discrepancy\", sibsp_shannon_S_diff)\n",
    "print()\n",
    "\n",
    "# PARCH\n",
    "parch_shannon_Q_diff = par_ch_shannon - Q_par_ch_shannon\n",
    "parch_shannon_C_diff = par_ch_shannon - C_par_ch_shannon\n",
    "parch_shannon_S_diff = par_ch_shannon - S_par_ch_shannon\n",
    "print(\"Q parch discrepancy\", parch_shannon_Q_diff)\n",
    "print(\"C parch discrepancy\", parch_shannon_C_diff)\n",
    "print(\"S parch discrepancy\", parch_shannon_S_diff)"
   ]
  },
  {
   "cell_type": "code",
   "execution_count": 13,
   "metadata": {},
   "outputs": [
    {
     "name": "stdout",
     "output_type": "stream",
     "text": [
      "RENYI\n",
      "Q survived discrepancy -0.006629888317052135\n",
      "C survived discrepancy -0.05882449667954326\n",
      "S survived discrepancy 0.06960341308636653\n",
      "\n",
      "Q pclass discrepancy 1.1147444152525423\n",
      "C pclass discrepancy 0.05525162194619093\n",
      "S pclass discrepancy -0.0036206163321697016\n",
      "\n",
      "Q sex discrepancy -0.11383121709720179\n",
      "C sex discrepancy -0.09537128213107471\n",
      "S sex discrepancy 0.06387668443731398\n",
      "\n",
      "Q age discrepancy 2.772980798311087\n",
      "C age discrepancy 0.24481613849960793\n",
      "S age discrepancy -0.5082633789160962\n",
      "\n",
      "Q sibsp discrepancy 0.22576489551917378\n",
      "C sibsp discrepancy -0.00377991244622522\n",
      "S sibsp discrepancy -0.01891937334613203\n",
      "\n",
      "Q parch discrepancy 0.42144551325891244\n",
      "C parch discrepancy -0.07211457556092382\n",
      "S parch discrepancy -0.03263179223381796\n"
     ]
    }
   ],
   "source": [
    "print(\"RENYI\")\n",
    "\n",
    "# SURVIVED\n",
    "survived_renyi_Q_diff = survived_renyi - Q_survived_renyi\n",
    "survived_renyi_C_diff = survived_renyi - C_survived_renyi\n",
    "survived_renyi_S_diff = survived_renyi - S_survived_renyi\n",
    "print(\"Q survived discrepancy\", survived_renyi_Q_diff)\n",
    "print(\"C survived discrepancy\", survived_renyi_C_diff)\n",
    "print(\"S survived discrepancy\", survived_renyi_S_diff)\n",
    "print()\n",
    "\n",
    "# PCLASS\n",
    "pclass_renyi_Q_diff = p_class_renyi - Q_p_class_renyi\n",
    "pclass_renyi_C_diff = p_class_renyi - C_p_class_renyi\n",
    "pclass_renyi_S_diff = p_class_renyi - S_p_class_renyi\n",
    "print(\"Q pclass discrepancy\", pclass_renyi_Q_diff)\n",
    "print(\"C pclass discrepancy\", pclass_renyi_C_diff)\n",
    "print(\"S pclass discrepancy\", pclass_renyi_S_diff)\n",
    "print()\n",
    "\n",
    "# SEX\n",
    "sex_renyi_Q_diff = sex_renyi - Q_sex_renyi\n",
    "sex_renyi_C_diff = sex_renyi - C_sex_renyi\n",
    "sex_renyi_S_diff = sex_renyi - S_sex_renyi\n",
    "print(\"Q sex discrepancy\", sex_renyi_Q_diff)\n",
    "print(\"C sex discrepancy\", sex_renyi_C_diff)\n",
    "print(\"S sex discrepancy\", sex_renyi_S_diff)\n",
    "print()\n",
    "\n",
    "# AGE\n",
    "age_renyi_Q_diff = age_renyi - Q_age_renyi\n",
    "age_renyi_C_diff = age_renyi - C_age_renyi\n",
    "age_renyi_S_diff = age_renyi - S_age_renyi\n",
    "print(\"Q age discrepancy\", age_renyi_Q_diff)\n",
    "print(\"C age discrepancy\", age_renyi_C_diff)\n",
    "print(\"S age discrepancy\", age_renyi_S_diff)\n",
    "print()\n",
    "\n",
    "# SIBSP\n",
    "sibsp_renyi_Q_diff = sib_sp_renyi - Q_sib_sp_renyi\n",
    "sibsp_renyi_C_diff = sib_sp_renyi - C_sib_sp_renyi\n",
    "sibsp_renyi_S_diff = sib_sp_renyi - S_sib_sp_renyi\n",
    "print(\"Q sibsp discrepancy\", sibsp_renyi_Q_diff)\n",
    "print(\"C sibsp discrepancy\", sibsp_renyi_C_diff)\n",
    "print(\"S sibsp discrepancy\", sibsp_renyi_S_diff)\n",
    "print()\n",
    "\n",
    "# PARCH\n",
    "parch_renyi_Q_diff = par_ch_renyi - Q_par_ch_renyi\n",
    "parch_renyi_C_diff = par_ch_renyi - C_par_ch_renyi\n",
    "parch_renyi_S_diff = par_ch_renyi - S_par_ch_renyi\n",
    "print(\"Q parch discrepancy\", parch_renyi_Q_diff)\n",
    "print(\"C parch discrepancy\", parch_renyi_C_diff)\n",
    "print(\"S parch discrepancy\", parch_renyi_S_diff)"
   ]
  },
  {
   "cell_type": "markdown",
   "metadata": {},
   "source": [
    "# Largest Discrepencies for each class identified\n",
    "\n",
    "Q : age (but pclass...)  \n",
    "C : age (but sibsp...)  \n",
    "S : age (but sibsp or sex...)  "
   ]
  },
  {
   "cell_type": "markdown",
   "metadata": {},
   "source": [
    "# Run Classifier to Predict Classes and Determine Accuracy"
   ]
  },
  {
   "cell_type": "code",
   "execution_count": 14,
   "metadata": {},
   "outputs": [
    {
     "name": "stdout",
     "output_type": "stream",
     "text": [
      "0.6741573033707865\n"
     ]
    }
   ],
   "source": [
    "feature_names = ['Embarked Q', 'Embarked C', 'Embarked S', 'Survived', 'Pclass', 'Sex', 'Age', 'SibSp', 'Parch']\n",
    "\n",
    "# Pclass, age, sibsp\n",
    "X = [[row[4], row[6], row[7]] for row in titanic_data.data]\n",
    "y = [[row[0], row[1], row[2]] for row in titanic_data.data]\n",
    "# print(X)\n",
    "\n",
    "X_train, X_test, y_train, y_test = utils.train_test_split(X, y, 0.5, 7)\n",
    "\n",
    "# Using sklearn instead:\n",
    "knn = KNeighborsClassifier(n_neighbors=3)\n",
    "knn.fit(X_train, y_train)\n",
    "\n",
    "# Predict on X_test\n",
    "y_preds = knn.predict(X_test)\n",
    "\n",
    "# print(y_test)\n",
    "# print(y_preds)\n",
    "\n",
    "# Compute accuracy\n",
    "knn_accuracy = accuracy_score(y_test, y_preds)\n",
    "\n",
    "print(knn_accuracy)"
   ]
  },
  {
   "cell_type": "code",
   "execution_count": 15,
   "metadata": {},
   "outputs": [
    {
     "name": "stdout",
     "output_type": "stream",
     "text": [
      "Per-Class Accuracy:\n",
      "Class 0: 13.16%\n",
      "Class 1: 18.39%\n",
      "Class 2: 87.19%\n",
      "Overall accuracy:  0.6741573033707865\n"
     ]
    }
   ],
   "source": [
    "y_test_labels = np.argmax(y_test, axis=1)\n",
    "y_pred_labels = np.argmax(y_preds, axis=1)\n",
    "\n",
    "# Count total occurrences and correct predictions per class\n",
    "classes = np.unique(y_test_labels)\n",
    "correct_counts = {cls: 0 for cls in classes}\n",
    "total_counts = {cls: 0 for cls in classes}\n",
    "\n",
    "for actual, predicted in zip(y_test_labels, y_pred_labels):\n",
    "    total_counts[actual] += 1  # Count occurrences of each class\n",
    "    if actual == predicted:\n",
    "        correct_counts[actual] += 1  # Count correct predictions\n",
    "\n",
    "# Calculate per-class accuracy\n",
    "class_accuracies = {cls: correct_counts[cls] / total_counts[cls] for cls in classes}\n",
    "\n",
    "# Print results\n",
    "print(\"Per-Class Accuracy:\")\n",
    "for cls, acc in class_accuracies.items():\n",
    "    print(f\"Class {cls}: {acc:.2%}\")\n",
    "\n",
    "print(\"Overall accuracy: \", knn_accuracy)"
   ]
  }
 ],
 "metadata": {
  "kernelspec": {
   "display_name": "base",
   "language": "python",
   "name": "python3"
  },
  "language_info": {
   "codemirror_mode": {
    "name": "ipython",
    "version": 3
   },
   "file_extension": ".py",
   "mimetype": "text/x-python",
   "name": "python",
   "nbconvert_exporter": "python",
   "pygments_lexer": "ipython3",
   "version": "3.11.5"
  }
 },
 "nbformat": 4,
 "nbformat_minor": 2
}
