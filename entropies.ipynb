{
 "cells": [
  {
   "cell_type": "code",
   "execution_count": 44,
   "metadata": {},
   "outputs": [],
   "source": [
    "import importlib\n",
    "import matplotlib.pyplot as plt\n",
    "import pandas as pd\n",
    "import seaborn as sns\n",
    "\n",
    "import MyPyTable\n",
    "importlib.reload(MyPyTable)\n",
    "from MyPyTable import MyPyTable\n",
    "\n",
    "import utils\n",
    "importlib.reload(utils)\n",
    "import numpy as np\n",
    "from classifier import MyKNeighborsClassifier\n",
    "\n",
    "from sklearn.neighbors import KNeighborsClassifier\n",
    "from sklearn.metrics import accuracy_score"
   ]
  },
  {
   "cell_type": "markdown",
   "metadata": {},
   "source": [
    "# Load Data from CSV"
   ]
  },
  {
   "cell_type": "code",
   "execution_count": 45,
   "metadata": {},
   "outputs": [
    {
     "data": {
      "text/plain": [
       "<MyPyTable.MyPyTable at 0x177ce6c50>"
      ]
     },
     "execution_count": 45,
     "metadata": {},
     "output_type": "execute_result"
    }
   ],
   "source": [
    "titanic_data = MyPyTable()\n",
    "titanic_data.load_from_file(\"input_data/updated_titanic.csv\")\n",
    "# titanic_data.pretty_print()"
   ]
  },
  {
   "cell_type": "markdown",
   "metadata": {},
   "source": [
    "# Separate Embarked Classes"
   ]
  },
  {
   "cell_type": "code",
   "execution_count": 46,
   "metadata": {},
   "outputs": [
    {
     "name": "stdout",
     "output_type": "stream",
     "text": [
      "[0.0, 1.0, 0.0, 1.0, 1.0, 0.0, 38.0, 1.0, 0.0, 71.2833]\n"
     ]
    }
   ],
   "source": [
    "Q_titanic_data = []\n",
    "C_titanic_data = []\n",
    "S_titanic_data = []\n",
    "\n",
    "# look at how data is imported\n",
    "print(titanic_data.data[0])\n",
    "\n",
    "for row in titanic_data.data:\n",
    "    if row[0] == 1:\n",
    "        Q_titanic_data.append(row)\n",
    "    elif row[1] == 1:\n",
    "        C_titanic_data.append(row)\n",
    "    elif row[3] == 1:\n",
    "        S_titanic_data.append(row)\n",
    "\n",
    "# print(\"Q dataset: \", Q_titanic_data)\n",
    "# print(\"C dataset: \", C_titanic_data)\n",
    "# print(\"S dataset: \", S_titanic_data)"
   ]
  },
  {
   "cell_type": "markdown",
   "metadata": {},
   "source": [
    "# Entropy calculation  \n",
    "### Shannon Entropy Calculation \n",
    " \n",
    "$H(X) = - \\sum p(x) \\log(p(x))$"
   ]
  },
  {
   "cell_type": "code",
   "execution_count": 47,
   "metadata": {},
   "outputs": [
    {
     "name": "stdout",
     "output_type": "stream",
     "text": [
      "Q entropy:  0.4247354052464511\n",
      "C entropy:  0.6988787658095251\n",
      "S entropy:  0.8520607567826528\n"
     ]
    }
   ],
   "source": [
    "Q_values = [row[0] for row in titanic_data.data]\n",
    "C_values = [row[1] for row in titanic_data.data]\n",
    "S_values = [row[2] for row in titanic_data.data]\n",
    "\n",
    "Q_entropy = utils.calculate_shannon_entropy(Q_values)\n",
    "C_entropy = utils.calculate_shannon_entropy(C_values)\n",
    "S_entropy = utils.calculate_shannon_entropy(S_values)\n",
    "\n",
    "print(\"Q entropy: \", Q_entropy)\n",
    "print(\"C entropy: \", C_entropy)\n",
    "print(\"S entropy: \", S_entropy)"
   ]
  },
  {
   "cell_type": "markdown",
   "metadata": {},
   "source": [
    "### Renyi Entropy Calculation\n",
    "$H_\\alpha(X) = \\frac{1}{1 - \\alpha} \\log_2 \\left( \\sum_{i=1}^{n} p(x_i)^\\alpha \\right)$"
   ]
  },
  {
   "cell_type": "code",
   "execution_count": 48,
   "metadata": {},
   "outputs": [
    {
     "name": "stdout",
     "output_type": "stream",
     "text": [
      "Q Renyi entropy:  0.2482164547619598\n",
      "C Renyi entropy:  0.5275420924996362\n",
      "S Renyi entropy:  0.7394021947104253\n"
     ]
    }
   ],
   "source": [
    "Q_renyi_entropy = utils.calculate_renyi_entropy(Q_values)\n",
    "C_renyi_entropy = utils.calculate_renyi_entropy(C_values)\n",
    "S_renyi_entropy = utils.calculate_renyi_entropy(S_values)\n",
    "\n",
    "print(\"Q Renyi entropy: \", Q_renyi_entropy)\n",
    "print(\"C Renyi entropy: \", C_renyi_entropy)\n",
    "print(\"S Renyi entropy: \", S_renyi_entropy)"
   ]
  }
 ],
 "metadata": {
  "kernelspec": {
   "display_name": "base",
   "language": "python",
   "name": "python3"
  },
  "language_info": {
   "codemirror_mode": {
    "name": "ipython",
    "version": 3
   },
   "file_extension": ".py",
   "mimetype": "text/x-python",
   "name": "python",
   "nbconvert_exporter": "python",
   "pygments_lexer": "ipython3",
   "version": "3.11.5"
  }
 },
 "nbformat": 4,
 "nbformat_minor": 2
}
