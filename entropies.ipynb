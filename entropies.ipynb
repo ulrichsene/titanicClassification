{
 "cells": [
  {
   "cell_type": "code",
   "execution_count": null,
   "metadata": {},
   "outputs": [],
   "source": [
    "import importlib\n",
    "\n",
    "import MyPyTable\n",
    "importlib.reload(MyPyTable)\n",
    "from MyPyTable import MyPyTable\n",
    "\n",
    "import utils\n",
    "importlib.reload(utils)"
   ]
  },
  {
   "cell_type": "markdown",
   "metadata": {},
   "source": [
    "# Load Data from CSV"
   ]
  },
  {
   "cell_type": "code",
   "execution_count": 50,
   "metadata": {},
   "outputs": [
    {
     "data": {
      "text/plain": [
       "<MyPyTable.MyPyTable at 0x175bd0350>"
      ]
     },
     "execution_count": 50,
     "metadata": {},
     "output_type": "execute_result"
    }
   ],
   "source": [
    "titanic_data = MyPyTable()\n",
    "titanic_data.load_from_file(\"input_data/updated_titanic.csv\")\n",
    "# titanic_data.pretty_print()"
   ]
  },
  {
   "cell_type": "markdown",
   "metadata": {},
   "source": [
    "# Separate Embarked Classes"
   ]
  },
  {
   "cell_type": "code",
   "execution_count": 51,
   "metadata": {},
   "outputs": [
    {
     "name": "stdout",
     "output_type": "stream",
     "text": [
      "[0.0, 1.0, 0.0, 1.0, 1.0, 0.0, 38.0, 1.0, 0.0, 71.2833]\n"
     ]
    }
   ],
   "source": [
    "Q_titanic_data = []\n",
    "C_titanic_data = []\n",
    "S_titanic_data = []\n",
    "\n",
    "# look at how data is imported\n",
    "print(titanic_data.data[0])\n",
    "\n",
    "for row in titanic_data.data:\n",
    "    if row[0] == 1:\n",
    "        Q_titanic_data.append(row)\n",
    "    elif row[1] == 1:\n",
    "        C_titanic_data.append(row)\n",
    "    elif row[3] == 1:\n",
    "        S_titanic_data.append(row)\n",
    "\n",
    "# print(\"Q dataset: \", Q_titanic_data)\n",
    "# print(\"C dataset: \", C_titanic_data)\n",
    "# print(\"S dataset: \", S_titanic_data)"
   ]
  },
  {
   "cell_type": "markdown",
   "metadata": {},
   "source": [
    "# Entropy calculation  \n",
    "### Shannon Entropy Calculation \n",
    " \n",
    "$H(X) = - \\sum p(x) \\log(p(x))$"
   ]
  },
  {
   "cell_type": "code",
   "execution_count": 52,
   "metadata": {},
   "outputs": [
    {
     "name": "stdout",
     "output_type": "stream",
     "text": [
      "Q entropy:  0.4247354052464511\n",
      "C entropy:  0.6988787658095251\n",
      "S entropy:  0.8520607567826528\n"
     ]
    }
   ],
   "source": [
    "Q_values = [row[0] for row in titanic_data.data]\n",
    "C_values = [row[1] for row in titanic_data.data]\n",
    "S_values = [row[2] for row in titanic_data.data]\n",
    "\n",
    "Q_entropy = utils.calculate_shannon_entropy(Q_values)\n",
    "C_entropy = utils.calculate_shannon_entropy(C_values)\n",
    "S_entropy = utils.calculate_shannon_entropy(S_values)\n",
    "\n",
    "print(\"Q entropy: \", Q_entropy)\n",
    "print(\"C entropy: \", C_entropy)\n",
    "print(\"S entropy: \", S_entropy)"
   ]
  },
  {
   "cell_type": "markdown",
   "metadata": {},
   "source": [
    "### Renyi Entropy Calculation\n",
    "$H_\\alpha(X) = \\frac{1}{1 - \\alpha} \\log_2 \\left( \\sum_{i=1}^{n} p(x_i)^\\alpha \\right)$"
   ]
  },
  {
   "cell_type": "code",
   "execution_count": 53,
   "metadata": {},
   "outputs": [
    {
     "name": "stdout",
     "output_type": "stream",
     "text": [
      "Q Renyi entropy:  0.2482164547619598\n",
      "C Renyi entropy:  0.5275420924996362\n",
      "S Renyi entropy:  0.7394021947104253\n"
     ]
    }
   ],
   "source": [
    "Q_renyi_entropy = utils.calculate_renyi_entropy(Q_values)\n",
    "C_renyi_entropy = utils.calculate_renyi_entropy(C_values)\n",
    "S_renyi_entropy = utils.calculate_renyi_entropy(S_values)\n",
    "\n",
    "print(\"Q Renyi entropy: \", Q_renyi_entropy)\n",
    "print(\"C Renyi entropy: \", C_renyi_entropy)\n",
    "print(\"S Renyi entropy: \", S_renyi_entropy)"
   ]
  },
  {
   "cell_type": "markdown",
   "metadata": {},
   "source": [
    "# Dataset Entropies for Features for Both Entropies  \n",
    "Shannon measures prediactablitly -> lower entropy means higher predictability    \n",
    "Renyi has a sharper punishment of lower predictablity events \n",
    "\n",
    "Ideal feature? Intra vs inter..."
   ]
  },
  {
   "cell_type": "code",
   "execution_count": 54,
   "metadata": {},
   "outputs": [
    {
     "name": "stdout",
     "output_type": "stream",
     "text": [
      "Survived shannon:  0.9610018162432594\n",
      "Pclass shannon:  1.4399719859739184\n",
      "Sex shannon:  0.9365517326147232\n",
      "Age shannon:  5.291844098413824\n",
      "Sibsp shannon:  1.3377097254948143\n",
      "Parch shannon:  1.129162033353948\n"
     ]
    }
   ],
   "source": [
    "survived = [row[3] for row in titanic_data.data]\n",
    "p_class = [row[4] for row in titanic_data.data]\n",
    "sex = [row[5] for row in titanic_data.data]\n",
    "age = [row[6] for row in titanic_data.data]\n",
    "sib_sp = [row[7] for row in titanic_data.data]\n",
    "par_ch = [row[8] for row in titanic_data.data]\n",
    "\n",
    "# Shannon entropy\n",
    "survived_shannon = utils.calculate_shannon_entropy(survived)\n",
    "p_class_shannon = utils.calculate_shannon_entropy(p_class)\n",
    "sex_shannon = utils.calculate_shannon_entropy(sex)\n",
    "age_shannon = utils.calculate_shannon_entropy(age)\n",
    "sib_sp_shannon = utils.calculate_shannon_entropy(sib_sp)\n",
    "par_ch_shannon = utils.calculate_shannon_entropy(par_ch)\n",
    "\n",
    "print(\"Survived shannon: \", survived_shannon)\n",
    "print(\"Pclass shannon: \", p_class_shannon)\n",
    "print(\"Sex shannon: \", sex_shannon)\n",
    "print(\"Age shannon: \", age_shannon)\n",
    "print(\"Sibsp shannon: \", sib_sp_shannon)\n",
    "print(\"Parch shannon: \", par_ch_shannon)\n"
   ]
  },
  {
   "cell_type": "code",
   "execution_count": 55,
   "metadata": {},
   "outputs": [
    {
     "name": "stdout",
     "output_type": "stream",
     "text": [
      "Survived renyi:  0.9247082917316864\n",
      "Pclass renyi:  1.3048541529744426\n",
      "Sex renyi:  0.880098358054565\n",
      "Age renyi:  3.998783847810187\n",
      "Sibsp renyi:  0.9347769469386966\n",
      "Parch renyi:  0.7265004969325213\n"
     ]
    }
   ],
   "source": [
    "# Renyi Entropy\n",
    "survived_renyi = utils.calculate_renyi_entropy(survived)\n",
    "p_class_renyi = utils.calculate_renyi_entropy(p_class)\n",
    "sex_renyi = utils.calculate_renyi_entropy(sex)\n",
    "age_renyi = utils.calculate_renyi_entropy(age)\n",
    "sib_sp_renyi = utils.calculate_renyi_entropy(sib_sp)\n",
    "par_ch_renyi = utils.calculate_renyi_entropy(par_ch)\n",
    "\n",
    "print(\"Survived renyi: \", survived_renyi)\n",
    "print(\"Pclass renyi: \", p_class_renyi)\n",
    "print(\"Sex renyi: \", sex_renyi)\n",
    "print(\"Age renyi: \", age_renyi)\n",
    "print(\"Sibsp renyi: \", sib_sp_renyi)\n",
    "print(\"Parch renyi: \", par_ch_renyi)"
   ]
  },
  {
   "cell_type": "markdown",
   "metadata": {},
   "source": [
    "# Embarked Subset Data  \n",
    "Calculate the entropy for each feature that has value (not classifier or fare)."
   ]
  },
  {
   "cell_type": "code",
   "execution_count": 63,
   "metadata": {},
   "outputs": [
    {
     "name": "stdout",
     "output_type": "stream",
     "text": [
      "Q Embarked\n",
      "Survived shannon:  0.9645476589143231\n",
      "Pclass shannon:  0.40978020814931754\n",
      "Sex shannon:  0.9969562518473083\n",
      "Age shannon:  2.498048755126898\n",
      "Sibsp shannon:  1.0994543949868185\n",
      "Parch shannon:  0.5914883261232053\n",
      "\n",
      "Survived renyi:  0.9313381800487386\n",
      "Pclass renyi:  0.19010973772190023\n",
      "Sex renyi:  0.9939295751517668\n",
      "Age renyi:  1.2258030494991\n",
      "Sibsp renyi:  0.7090120514195228\n",
      "Parch renyi:  0.30505498367360884\n"
     ]
    }
   ],
   "source": [
    "# Q Embarked Dataset\n",
    "Q_survived = [row[3] for row in Q_titanic_data]\n",
    "Q_p_class = [row[4] for row in Q_titanic_data]\n",
    "Q_sex = [row[5] for row in Q_titanic_data]\n",
    "Q_age = [row[6] for row in Q_titanic_data]\n",
    "Q_sib_sp = [row[7] for row in Q_titanic_data]\n",
    "Q_par_ch = [row[8] for row in Q_titanic_data]\n",
    "\n",
    "# Shannon entropy\n",
    "Q_survived_shannon = utils.calculate_shannon_entropy(Q_survived)\n",
    "Q_p_class_shannon = utils.calculate_shannon_entropy(Q_p_class)\n",
    "Q_sex_shannon = utils.calculate_shannon_entropy(Q_sex)\n",
    "Q_age_shannon = utils.calculate_shannon_entropy(Q_age)\n",
    "Q_sib_sp_shannon = utils.calculate_shannon_entropy(Q_sib_sp)\n",
    "Q_par_ch_shannon = utils.calculate_shannon_entropy(Q_par_ch)\n",
    "\n",
    "print(\"Q Embarked\")\n",
    "print(\"Survived shannon: \", Q_survived_shannon)\n",
    "print(\"Pclass shannon: \", Q_p_class_shannon)\n",
    "print(\"Sex shannon: \", Q_sex_shannon)\n",
    "print(\"Age shannon: \", Q_age_shannon)\n",
    "print(\"Sibsp shannon: \", Q_sib_sp_shannon)\n",
    "print(\"Parch shannon: \", Q_par_ch_shannon)\n",
    "print()\n",
    "\n",
    "# Renyi Entropy\n",
    "Q_survived_renyi = utils.calculate_renyi_entropy(Q_survived)\n",
    "Q_p_class_renyi = utils.calculate_renyi_entropy(Q_p_class)\n",
    "Q_sex_renyi = utils.calculate_renyi_entropy(Q_sex)\n",
    "Q_age_renyi = utils.calculate_renyi_entropy(Q_age)\n",
    "Q_sib_sp_renyi = utils.calculate_renyi_entropy(Q_sib_sp)\n",
    "Q_par_ch_renyi = utils.calculate_renyi_entropy(Q_par_ch)\n",
    "\n",
    "print(\"Survived renyi: \", Q_survived_renyi)\n",
    "print(\"Pclass renyi: \", Q_p_class_renyi)\n",
    "print(\"Sex renyi: \", Q_sex_renyi)\n",
    "print(\"Age renyi: \", Q_age_renyi)\n",
    "print(\"Sibsp renyi: \", Q_sib_sp_renyi)\n",
    "print(\"Parch renyi: \", Q_par_ch_renyi)"
   ]
  },
  {
   "cell_type": "code",
   "execution_count": 64,
   "metadata": {},
   "outputs": [
    {
     "name": "stdout",
     "output_type": "stream",
     "text": [
      "C Embarked\n",
      "Survived shannon:  0.9917033083725818\n",
      "Pclass shannon:  1.3612751028346035\n",
      "Sex shannon:  0.9875943537925622\n",
      "Age shannon:  4.995226904564466\n",
      "Sibsp shannon:  1.1017123602974421\n",
      "Parch shannon:  1.115894976744305\n",
      "\n",
      "Survived renyi:  0.9835327884112297\n",
      "Pclass renyi:  1.2496025310282517\n",
      "Sex renyi:  0.9754696401856398\n",
      "Age renyi:  3.753967709310579\n",
      "Sibsp renyi:  0.9385568593849218\n",
      "Parch renyi:  0.7986150724934451\n"
     ]
    }
   ],
   "source": [
    "# C Embarked Dataset\n",
    "C_survived = [row[3] for row in C_titanic_data]\n",
    "C_p_class = [row[4] for row in C_titanic_data]\n",
    "C_sex = [row[5] for row in C_titanic_data]\n",
    "C_age = [row[6] for row in C_titanic_data]\n",
    "C_sib_sp = [row[7] for row in C_titanic_data]\n",
    "C_par_ch = [row[8] for row in C_titanic_data]\n",
    "\n",
    "# Shannon entropy\n",
    "C_survived_shannon = utils.calculate_shannon_entropy(C_survived)\n",
    "C_p_class_shannon = utils.calculate_shannon_entropy(C_p_class)\n",
    "C_sex_shannon = utils.calculate_shannon_entropy(C_sex)\n",
    "C_age_shannon = utils.calculate_shannon_entropy(C_age)\n",
    "C_sib_sp_shannon = utils.calculate_shannon_entropy(C_sib_sp)\n",
    "C_par_ch_shannon = utils.calculate_shannon_entropy(C_par_ch)\n",
    "\n",
    "print(\"C Embarked\")\n",
    "print(\"Survived shannon: \", C_survived_shannon)\n",
    "print(\"Pclass shannon: \", C_p_class_shannon)\n",
    "print(\"Sex shannon: \", C_sex_shannon)\n",
    "print(\"Age shannon: \", C_age_shannon)\n",
    "print(\"Sibsp shannon: \", C_sib_sp_shannon)\n",
    "print(\"Parch shannon: \", C_par_ch_shannon)\n",
    "print()\n",
    "\n",
    "# Renyi Entropy\n",
    "C_survived_renyi = utils.calculate_renyi_entropy(C_survived)\n",
    "C_p_class_renyi = utils.calculate_renyi_entropy(C_p_class)\n",
    "C_sex_renyi = utils.calculate_renyi_entropy(C_sex)\n",
    "C_age_renyi = utils.calculate_renyi_entropy(C_age)\n",
    "C_sib_sp_renyi = utils.calculate_renyi_entropy(C_sib_sp)\n",
    "C_par_ch_renyi = utils.calculate_renyi_entropy(C_par_ch)\n",
    "\n",
    "print(\"Survived renyi: \", C_survived_renyi)\n",
    "print(\"Pclass renyi: \", C_p_class_renyi)\n",
    "print(\"Sex renyi: \", C_sex_renyi)\n",
    "print(\"Age renyi: \", C_age_renyi)\n",
    "print(\"Sibsp renyi: \", C_sib_sp_renyi)\n",
    "print(\"Parch renyi: \", C_par_ch_renyi)"
   ]
  },
  {
   "cell_type": "code",
   "execution_count": 67,
   "metadata": {},
   "outputs": [
    {
     "name": "stdout",
     "output_type": "stream",
     "text": [
      "S Embarked\n",
      "Survived shannon:  0.0\n",
      "Pclass shannon:  1.5824904486235674\n",
      "Sex shannon:  0.9354872668926244\n",
      "Age shannon:  5.441790470190361\n",
      "Sibsp shannon:  1.2895504678514702\n",
      "Parch shannon:  1.3757450951300618\n",
      "\n",
      "Survived renyi:  -0.0\n",
      "Pclass renyi:  1.5800976570825727\n",
      "Sex renyi:  0.878198914458595\n",
      "Age renyi:  5.032889169892737\n",
      "Sibsp renyi:  1.039860960124198\n",
      "Parch renyi:  1.0841990321133155\n"
     ]
    }
   ],
   "source": [
    "# S Embarked Dataset\n",
    "S_survived = [row[3] for row in S_titanic_data]\n",
    "S_p_class = [row[4] for row in S_titanic_data]\n",
    "S_sex = [row[5] for row in S_titanic_data]\n",
    "S_age = [row[6] for row in S_titanic_data]\n",
    "S_sib_sp = [row[7] for row in S_titanic_data]\n",
    "S_par_ch = [row[8] for row in S_titanic_data]\n",
    "\n",
    "# Shannon entropy\n",
    "S_survived_shannon = utils.calculate_shannon_entropy(S_survived)\n",
    "S_p_class_shannon = utils.calculate_shannon_entropy(S_p_class)\n",
    "S_sex_shannon = utils.calculate_shannon_entropy(S_sex)\n",
    "S_age_shannon = utils.calculate_shannon_entropy(S_age)\n",
    "S_sib_sp_shannon = utils.calculate_shannon_entropy(S_sib_sp)\n",
    "S_par_ch_shannon = utils.calculate_shannon_entropy(S_par_ch)\n",
    "\n",
    "print(\"S Embarked\")\n",
    "print(\"Survived shannon: \", S_survived_shannon)\n",
    "print(\"Pclass shannon: \", S_p_class_shannon)\n",
    "print(\"Sex shannon: \", S_sex_shannon)\n",
    "print(\"Age shannon: \", S_age_shannon)\n",
    "print(\"Sibsp shannon: \", S_sib_sp_shannon)\n",
    "print(\"Parch shannon: \", S_par_ch_shannon)\n",
    "print()\n",
    "\n",
    "# Renyi Entropy\n",
    "S_survived_renyi = utils.calculate_renyi_entropy(S_survived)\n",
    "S_p_class_renyi = utils.calculate_renyi_entropy(S_p_class)\n",
    "S_sex_renyi = utils.calculate_renyi_entropy(S_sex)\n",
    "S_age_renyi = utils.calculate_renyi_entropy(S_age)\n",
    "S_sib_sp_renyi = utils.calculate_renyi_entropy(S_sib_sp)\n",
    "S_par_ch_renyi = utils.calculate_renyi_entropy(S_par_ch)\n",
    "\n",
    "print(\"Survived renyi: \", S_survived_renyi)\n",
    "print(\"Pclass renyi: \", S_p_class_renyi)\n",
    "print(\"Sex renyi: \", S_sex_renyi)\n",
    "print(\"Age renyi: \", S_age_renyi)\n",
    "print(\"Sibsp renyi: \", S_sib_sp_renyi)\n",
    "print(\"Parch renyi: \", S_par_ch_renyi)\n",
    "\n",
    "# print(S_titanic_data)"
   ]
  }
 ],
 "metadata": {
  "kernelspec": {
   "display_name": "base",
   "language": "python",
   "name": "python3"
  },
  "language_info": {
   "codemirror_mode": {
    "name": "ipython",
    "version": 3
   },
   "file_extension": ".py",
   "mimetype": "text/x-python",
   "name": "python",
   "nbconvert_exporter": "python",
   "pygments_lexer": "ipython3",
   "version": "3.11.5"
  }
 },
 "nbformat": 4,
 "nbformat_minor": 2
}
